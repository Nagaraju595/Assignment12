{
 "cells": [
  {
   "cell_type": "markdown",
   "id": "441d851c",
   "metadata": {},
   "source": [
    "# 1. In what modes should the PdfFileReader() and PdfFileWriter() File objects will be opened?"
   ]
  },
  {
   "cell_type": "markdown",
   "id": "4e8b1dfd",
   "metadata": {},
   "source": [
    "# For PdfFileReader() file objects should be opened in rb -> read binary mode, Whereas for PdfFileWriter() file objects should be opened in wb -> write binary mode."
   ]
  },
  {
   "cell_type": "markdown",
   "id": "8102e097",
   "metadata": {},
   "source": [
    "# 2. From a PdfFileReader object, how do you get a Page object for page 5?"
   ]
  },
  {
   "cell_type": "markdown",
   "id": "4762b4fb",
   "metadata": {},
   "source": [
    "You can get a Page object by calling the getPage() method ➋ on a PdfFileReader object and passing it the page number of the page you're interested in"
   ]
  },
  {
   "cell_type": "markdown",
   "id": "de656a88",
   "metadata": {},
   "source": [
    "# 3. What PdfFileReader variable stores the number of pages in the PDF document?"
   ]
  },
  {
   "cell_type": "markdown",
   "id": "2250b02b",
   "metadata": {},
   "source": [
    "The total number of pages in the document is stored in the numPages attribute of a PdfFileReader object "
   ]
  },
  {
   "cell_type": "markdown",
   "id": "f16fa72b",
   "metadata": {},
   "source": [
    "# 4. If a PdfFileReader object’s PDF is encrypted with the password swordfish, what must you do\n",
    "before you can obtain Page objects from it?"
   ]
  },
  {
   "cell_type": "markdown",
   "id": "7e9fd3a0",
   "metadata": {},
   "source": [
    "Before we obtain the page object, the pdf has to be decrypted by calling .decrypt('swordfish')"
   ]
  },
  {
   "cell_type": "markdown",
   "id": "aea474f6",
   "metadata": {},
   "source": [
    "# 5. What methods do you use to rotate a page?"
   ]
  },
  {
   "cell_type": "markdown",
   "id": "944eab4d",
   "metadata": {},
   "source": [
    "Right-click the selected page or individual pages, and choose the \"Rotate Page\" option."
   ]
  },
  {
   "cell_type": "code",
   "execution_count": 1,
   "id": "f4ff31f3",
   "metadata": {},
   "outputs": [],
   "source": [
    "#pageObj.rotateClockwise(180)\n",
    "\n",
    "#The rotateClockwise() and rotateCounterClockwise() methods. The degrees to rotate is passed as an integer argument"
   ]
  },
  {
   "cell_type": "markdown",
   "id": "ea48d495",
   "metadata": {},
   "source": [
    "# 6. What is the difference between a Run object and a Paragraph object?"
   ]
  },
  {
   "cell_type": "markdown",
   "id": "6b88374f",
   "metadata": {},
   "source": [
    "Paragraph Object : A document contains multiple paragraphs. A paragraph begins on a new line and contains multiple"
   ]
  },
  {
   "cell_type": "markdown",
   "id": "414dc523",
   "metadata": {},
   "source": [
    "runs. The Document object contains a list of Paragraph objects for the paragraphs in the document. (A new paragraph begins whenever the user presses ENTER or RETURN while typing in a Word document.)\n",
    "\n"
   ]
  },
  {
   "cell_type": "markdown",
   "id": "82196e0b",
   "metadata": {},
   "source": [
    "Run Objects : Runs are contiguous groups of characters within a paragraph with the same style"
   ]
  },
  {
   "cell_type": "markdown",
   "id": "fbd03a59",
   "metadata": {},
   "source": [
    "# 7. How do you obtain a list of Paragraph objects for a Document object that’s stored in a variable\n",
    "named doc?"
   ]
  },
  {
   "cell_type": "code",
   "execution_count": null,
   "id": "aeeb8a72",
   "metadata": {},
   "outputs": [],
   "source": [
    "# !pip install python-docx\n",
    "import docx\n",
    "doc = docx.Document('abc.docx')\n",
    "doc.paragraphs\n",
    "#By using doc.paragraphs"
   ]
  },
  {
   "cell_type": "markdown",
   "id": "dc07c64f",
   "metadata": {},
   "source": [
    "# 8. What type of object has bold, underline, italic, strike, and outline variables?"
   ]
  },
  {
   "cell_type": "markdown",
   "id": "b018f67b",
   "metadata": {},
   "source": [
    " A Run object has bold, underline,italic,strike and outline variables"
   ]
  },
  {
   "cell_type": "markdown",
   "id": "a3a3f3ca",
   "metadata": {},
   "source": [
    "# 9. What is the difference between False, True, and None for the bold variable?"
   ]
  },
  {
   "cell_type": "markdown",
   "id": "98d633e6",
   "metadata": {},
   "source": [
    "Runs can be further styled using text attributes. Each attribute can be set to one of three values:"
   ]
  },
  {
   "cell_type": "markdown",
   "id": "c6493143",
   "metadata": {},
   "source": [
    "True (the attribute is always enabled, no matter what other styles are applied to the run),\n",
    "False (the attribute is always disabled),\n",
    "None (defaults to whatever the run’s style is set to)"
   ]
  },
  {
   "cell_type": "markdown",
   "id": "9b2c6126",
   "metadata": {},
   "source": []
  },
  {
   "cell_type": "markdown",
   "id": "b91072e1",
   "metadata": {},
   "source": [
    "True always makes the Run object bolded and False makes it always not bolded, no matter what the style’s bold setting is. None will make the Run object just use the style’s bold setting"
   ]
  },
  {
   "cell_type": "markdown",
   "id": "7d8d7b7b",
   "metadata": {},
   "source": [
    "# 10. How do you create a Document object for a new Word document?"
   ]
  },
  {
   "cell_type": "markdown",
   "id": "57d988a2",
   "metadata": {},
   "source": [
    "By Calling the docx.Document() function."
   ]
  },
  {
   "cell_type": "markdown",
   "id": "926cf408",
   "metadata": {},
   "source": [
    "# 11. How do you add a paragraph with the text &#39;Hello, there!&#39; to a Document object stored in a variable named doc?"
   ]
  },
  {
   "cell_type": "code",
   "execution_count": null,
   "id": "4a16912c",
   "metadata": {},
   "outputs": [],
   "source": [
    "import docx\n",
    "doc = docx.Document()\n",
    "\n",
    "doc.add_paragraph('Hello there!')\n",
    "doc.save('hellothere.docx')"
   ]
  },
  {
   "cell_type": "markdown",
   "id": "90db9bfe",
   "metadata": {},
   "source": [
    "# 12. What integers represent the levels of headings available in Word documents?"
   ]
  },
  {
   "cell_type": "markdown",
   "id": "60cd21e8",
   "metadata": {},
   "source": [
    "integer from 0 to 4"
   ]
  },
  {
   "cell_type": "markdown",
   "id": "270a472d",
   "metadata": {},
   "source": [
    "The arguments to add_heading() are a string of the heading text and an integer from 0 to 4. The integer 0 makes the heading the Title style, which is used for the top of the document. Integers 1 to 4 are for various heading levels, with 1 being the main heading and 4 the lowest subheading"
   ]
  },
  {
   "cell_type": "code",
   "execution_count": null,
   "id": "8288747e",
   "metadata": {},
   "outputs": [],
   "source": []
  }
 ],
 "metadata": {
  "kernelspec": {
   "display_name": "Python 3 (ipykernel)",
   "language": "python",
   "name": "python3"
  },
  "language_info": {
   "codemirror_mode": {
    "name": "ipython",
    "version": 3
   },
   "file_extension": ".py",
   "mimetype": "text/x-python",
   "name": "python",
   "nbconvert_exporter": "python",
   "pygments_lexer": "ipython3",
   "version": "3.9.7"
  }
 },
 "nbformat": 4,
 "nbformat_minor": 5
}
